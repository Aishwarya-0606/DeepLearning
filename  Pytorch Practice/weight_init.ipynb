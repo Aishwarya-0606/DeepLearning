{
  "nbformat": 4,
  "nbformat_minor": 0,
  "metadata": {
    "colab": {
      "name": "weight_init.ipynb",
      "provenance": [],
      "authorship_tag": "ABX9TyOWWscIFpIYAkyiPG6L7hEb",
      "include_colab_link": true
    },
    "kernelspec": {
      "name": "python3",
      "display_name": "Python 3"
    }
  },
  "cells": [
    {
      "cell_type": "markdown",
      "metadata": {
        "id": "view-in-github",
        "colab_type": "text"
      },
      "source": [
        "<a href=\"https://colab.research.google.com/github/aish0606/DeepLearning/blob/main/%20Pytorch%20Practice/weight_init.ipynb\" target=\"_parent\"><img src=\"https://colab.research.google.com/assets/colab-badge.svg\" alt=\"Open In Colab\"/></a>"
      ]
    },
    {
      "cell_type": "code",
      "metadata": {
        "id": "Fi_C2aH0gq4k"
      },
      "source": [
        "# https://pytorch.org/docs/stable/nn.init.html\r\n",
        "import torch\r\n",
        "import torch.nn as nn"
      ],
      "execution_count": 1,
      "outputs": []
    },
    {
      "cell_type": "code",
      "metadata": {
        "id": "5BVHj9j_hmHV"
      },
      "source": [
        "layer = nn.Linear(5,5)"
      ],
      "execution_count": 2,
      "outputs": []
    },
    {
      "cell_type": "code",
      "metadata": {
        "colab": {
          "base_uri": "https://localhost:8080/"
        },
        "id": "sXc0asycjxMw",
        "outputId": "34993ee0-5450-49aa-9af3-be4c5709f50a"
      },
      "source": [
        "print(layer.weight)\r\n",
        "print(layer.bias.data)\r\n",
        "print(layer.bias)"
      ],
      "execution_count": 7,
      "outputs": [
        {
          "output_type": "stream",
          "text": [
            "Parameter containing:\n",
            "tensor([[-0.2741, -0.3766, -0.4199, -0.2985, -0.2755],\n",
            "        [-0.1797, -0.1591, -0.1124,  0.0914,  0.2848],\n",
            "        [-0.4178,  0.3090, -0.3469, -0.2833, -0.4449],\n",
            "        [-0.4123,  0.0624, -0.1436,  0.0566,  0.3768],\n",
            "        [-0.2879,  0.2137,  0.1262,  0.3538, -0.1861]], requires_grad=True)\n",
            "tensor([-0.3678, -0.3453, -0.4265,  0.1834,  0.1935])\n",
            "Parameter containing:\n",
            "tensor([-0.3678, -0.3453, -0.4265,  0.1834,  0.1935], requires_grad=True)\n"
          ],
          "name": "stdout"
        }
      ]
    },
    {
      "cell_type": "code",
      "metadata": {
        "colab": {
          "base_uri": "https://localhost:8080/"
        },
        "id": "OuNmF3vgjz3O",
        "outputId": "3131dd2c-cf4a-4cb5-ddee-63718c554826"
      },
      "source": [
        "nn.init.uniform_(layer.weight, a=0.0,b=5) # in uniform_ '_' means inplace operation"
      ],
      "execution_count": 11,
      "outputs": [
        {
          "output_type": "execute_result",
          "data": {
            "text/plain": [
              "Parameter containing:\n",
              "tensor([[1.2795, 1.5414, 0.2297, 1.3370, 3.1425],\n",
              "        [3.8304, 4.4316, 2.6413, 1.0802, 0.2888],\n",
              "        [0.8049, 0.6679, 4.9105, 1.4672, 0.1670],\n",
              "        [2.8772, 0.5100, 1.5791, 2.7369, 3.2951],\n",
              "        [0.4679, 0.2703, 1.3017, 0.7821, 1.1442]], requires_grad=True)"
            ]
          },
          "metadata": {
            "tags": []
          },
          "execution_count": 11
        }
      ]
    },
    {
      "cell_type": "code",
      "metadata": {
        "colab": {
          "base_uri": "https://localhost:8080/"
        },
        "id": "2Q_8a5QGk8CA",
        "outputId": "2d170da5-4b29-4733-f1b3-350ba8db99ba"
      },
      "source": [
        "nn.init.normal_(layer.weight, mean=0, std=5.0)"
      ],
      "execution_count": 14,
      "outputs": [
        {
          "output_type": "execute_result",
          "data": {
            "text/plain": [
              "Parameter containing:\n",
              "tensor([[ 5.9892, -2.0039, -3.0401, -7.5103,  1.4927],\n",
              "        [-1.6669, -0.5521,  6.2566,  5.4991,  5.3312],\n",
              "        [-4.1349, -1.6218,  2.7428,  1.7911, -4.6667],\n",
              "        [-7.5998,  1.4721,  9.2318,  3.6768, -5.1760],\n",
              "        [ 3.7911,  3.2966,  2.7498,  1.3364, -2.7034]], requires_grad=True)"
            ]
          },
          "metadata": {
            "tags": []
          },
          "execution_count": 14
        }
      ]
    },
    {
      "cell_type": "code",
      "metadata": {
        "colab": {
          "base_uri": "https://localhost:8080/"
        },
        "id": "7nzL6b_PnAIr",
        "outputId": "69d9fce1-5a86-4e9b-a50e-c041f6606bea"
      },
      "source": [
        "# Constant initialization:- Weight should not initiazed as constant. Bias can initialized as CONSTANTS\r\n",
        "nn.init.constant_(layer.bias, 7)"
      ],
      "execution_count": 17,
      "outputs": [
        {
          "output_type": "execute_result",
          "data": {
            "text/plain": [
              "Parameter containing:\n",
              "tensor([7., 7., 7., 7., 7.], requires_grad=True)"
            ]
          },
          "metadata": {
            "tags": []
          },
          "execution_count": 17
        }
      ]
    },
    {
      "cell_type": "code",
      "metadata": {
        "colab": {
          "base_uri": "https://localhost:8080/"
        },
        "id": "CifUxQgUo6s4",
        "outputId": "a5f096db-adde-41dd-e9ae-7c7a00d2fb7a"
      },
      "source": [
        "nn.init.zeros_(layer.bias)"
      ],
      "execution_count": 20,
      "outputs": [
        {
          "output_type": "execute_result",
          "data": {
            "text/plain": [
              "Parameter containing:\n",
              "tensor([0., 0., 0., 0., 0.], requires_grad=True)"
            ]
          },
          "metadata": {
            "tags": []
          },
          "execution_count": 20
        }
      ]
    },
    {
      "cell_type": "code",
      "metadata": {
        "colab": {
          "base_uri": "https://localhost:8080/"
        },
        "id": "sl9dAwEyoqdI",
        "outputId": "6a733ff7-2a0d-4b16-832c-97dc99ed21bf"
      },
      "source": [
        "layer.bias"
      ],
      "execution_count": 18,
      "outputs": [
        {
          "output_type": "execute_result",
          "data": {
            "text/plain": [
              "Parameter containing:\n",
              "tensor([7., 7., 7., 7., 7.], requires_grad=True)"
            ]
          },
          "metadata": {
            "tags": []
          },
          "execution_count": 18
        }
      ]
    },
    {
      "cell_type": "code",
      "metadata": {
        "colab": {
          "base_uri": "https://localhost:8080/"
        },
        "id": "RZ4SQeJhoukL",
        "outputId": "804ddb1b-d11d-474c-e584-52b2e52a972d"
      },
      "source": [
        "nn.init.xavier_uniform_(layer.weight, gain=1.0)"
      ],
      "execution_count": 21,
      "outputs": [
        {
          "output_type": "execute_result",
          "data": {
            "text/plain": [
              "Parameter containing:\n",
              "tensor([[-0.1610,  0.0655, -0.3522,  0.0449,  0.6796],\n",
              "        [-0.2245, -0.2333,  0.6017,  0.2497, -0.5601],\n",
              "        [ 0.3243,  0.4957, -0.0229,  0.0090, -0.0558],\n",
              "        [ 0.3399,  0.2963,  0.2018,  0.6669, -0.1425],\n",
              "        [ 0.2864,  0.4834,  0.3756, -0.2500,  0.2948]], requires_grad=True)"
            ]
          },
          "metadata": {
            "tags": []
          },
          "execution_count": 21
        }
      ]
    },
    {
      "cell_type": "code",
      "metadata": {
        "colab": {
          "base_uri": "https://localhost:8080/"
        },
        "id": "NRji3bW4tb41",
        "outputId": "c8318ce7-5b6b-4af5-d908-ee88c0a14382"
      },
      "source": [
        "nn.init.xavier_normal_(layer.weight, gain=1.0)"
      ],
      "execution_count": 25,
      "outputs": [
        {
          "output_type": "execute_result",
          "data": {
            "text/plain": [
              "Parameter containing:\n",
              "tensor([[-0.0537,  0.4353,  0.3600, -0.3226,  0.1663],\n",
              "        [-0.6984, -0.4196, -0.4488,  0.0378, -0.3572],\n",
              "        [-0.5433,  0.0549,  0.1123,  0.5232,  0.1993],\n",
              "        [-0.2711, -0.4655, -0.0218,  0.1957, -0.0876],\n",
              "        [-0.2740, -0.1295, -0.1070,  0.1347, -0.0680]], requires_grad=True)"
            ]
          },
          "metadata": {
            "tags": []
          },
          "execution_count": 25
        }
      ]
    },
    {
      "cell_type": "code",
      "metadata": {
        "id": "rIG1mZyW1qFQ"
      },
      "source": [
        ""
      ],
      "execution_count": null,
      "outputs": []
    }
  ]
}