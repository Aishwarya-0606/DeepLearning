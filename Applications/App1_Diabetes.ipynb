{
  "nbformat": 4,
  "nbformat_minor": 0,
  "metadata": {
    "colab": {
      "name": "App1 - Diabetes.ipynb",
      "provenance": [],
      "collapsed_sections": [],
      "authorship_tag": "ABX9TyMP8IS42Xmg5F5gT8tgT8Lw",
      "include_colab_link": true
    },
    "kernelspec": {
      "name": "python3",
      "display_name": "Python 3"
    }
  },
  "cells": [
    {
      "cell_type": "markdown",
      "metadata": {
        "id": "view-in-github",
        "colab_type": "text"
      },
      "source": [
        "<a href=\"https://colab.research.google.com/github/aish0606/DeepLearning/blob/main/Applications/App1_Diabetes.ipynb\" target=\"_parent\"><img src=\"https://colab.research.google.com/assets/colab-badge.svg\" alt=\"Open In Colab\"/></a>"
      ]
    },
    {
      "cell_type": "markdown",
      "metadata": {
        "id": "aRaS_sWy6m_L"
      },
      "source": [
        "### **FFNN - Application 1 - Diabetes**\r\n",
        "\r\n",
        "ffnn - feed forward neural network"
      ]
    },
    {
      "cell_type": "code",
      "metadata": {
        "colab": {
          "base_uri": "https://localhost:8080/"
        },
        "id": "f9Dnyw983ykE",
        "outputId": "d10d2da0-e4d0-4cf6-e690-93b43761c71d"
      },
      "source": [
        "!git clone https://github.com/fawazsammani/The-Complete-Neural-Networks-Bootcamp-Theory-Applications.git"
      ],
      "execution_count": 1,
      "outputs": [
        {
          "output_type": "stream",
          "text": [
            "Cloning into 'The-Complete-Neural-Networks-Bootcamp-Theory-Applications'...\n",
            "remote: Enumerating objects: 25, done.\u001b[K\n",
            "remote: Counting objects: 100% (25/25), done.\u001b[K\n",
            "remote: Compressing objects: 100% (25/25), done.\u001b[K\n",
            "remote: Total 80 (delta 10), reused 0 (delta 0), pack-reused 55\u001b[K\n",
            "Unpacking objects: 100% (80/80), done.\n"
          ],
          "name": "stdout"
        }
      ]
    },
    {
      "cell_type": "code",
      "metadata": {
        "colab": {
          "base_uri": "https://localhost:8080/"
        },
        "id": "l2dDIVjF5PQO",
        "outputId": "824e06f7-b9c1-464a-bbfd-e8b888590d0b"
      },
      "source": [
        "from google.colab import drive\n",
        "drive.mount('gdrive')"
      ],
      "execution_count": 2,
      "outputs": [
        {
          "output_type": "stream",
          "text": [
            "Mounted at gdrive\n"
          ],
          "name": "stdout"
        }
      ]
    },
    {
      "cell_type": "code",
      "metadata": {
        "id": "lj8cPvoW5WqF"
      },
      "source": [
        "!cp /content/The-Complete-Neural-Networks-Bootcamp-Theory-Applications/diabetes.csv /content/gdrive/MyDrive/Data/"
      ],
      "execution_count": 3,
      "outputs": []
    },
    {
      "cell_type": "code",
      "metadata": {
        "id": "Y7dAqBKG6DY1"
      },
      "source": [
        "import numpy as np\r\n",
        "import torch\r\n",
        "import torch.nn as nn\r\n",
        "# below 2 packages are used topreprocess the dataset\r\n",
        "import pandas as pd\r\n",
        "from sklearn.preprocessing import StandardScaler\r\n",
        "# to build our custom pytorch dataset we use the following\r\n",
        "from torch.utils.data import Dataset"
      ],
      "execution_count": 4,
      "outputs": []
    },
    {
      "cell_type": "code",
      "metadata": {
        "id": "OyEdWUKD-VkT"
      },
      "source": [
        "# Load the dataset using pd\r\n",
        "data = pd.read_csv('/content/gdrive/MyDrive/Data/diabetes.csv')"
      ],
      "execution_count": 5,
      "outputs": []
    },
    {
      "cell_type": "code",
      "metadata": {
        "id": "OTUOrjW5_ML8"
      },
      "source": [
        "# For x: Extract out the dataset from all the rows (all samples) and all columns except last column (all features). \r\n",
        "# For y: Extract out the last column (which is the label)\r\n",
        "# Convert both to numpy using the .values method\r\n",
        "x = data.iloc[:, 0:-1].values\r\n",
        "y_string = data.iloc[:, -1].values"
      ],
      "execution_count": 6,
      "outputs": []
    },
    {
      "cell_type": "code",
      "metadata": {
        "colab": {
          "base_uri": "https://localhost:8080/"
        },
        "id": "XIVF8StQCZuC",
        "outputId": "622a04d3-e9ca-42f6-9b4d-b8ae71290872"
      },
      "source": [
        "# Lets have a look some samples from our data\r\n",
        "print(x[:3]) # this will show 3 ROWS with ALL COLUMNS\r\n",
        "print(y_string[:3])"
      ],
      "execution_count": 7,
      "outputs": [
        {
          "output_type": "stream",
          "text": [
            "[[  6.  148.   72.   35.    0.   33.6  50. ]\n",
            " [  1.   85.   66.   29.    0.   26.6  31. ]\n",
            " [  8.  183.   64.    0.    0.   23.3  32. ]]\n",
            "['positive' 'negative' 'positive']\n"
          ],
          "name": "stdout"
        }
      ]
    },
    {
      "cell_type": "code",
      "metadata": {
        "colab": {
          "base_uri": "https://localhost:8080/"
        },
        "id": "QLKXlF9I_2Oc",
        "outputId": "58facaa3-ab9c-4b49-f7f7-d2011ba36528"
      },
      "source": [
        "# Our neural network only understand numbers! So convert the string to labels\r\n",
        "yint = [1 if s == 'positive' else 0 for s in y_string]\r\n",
        "print(yint)\r\n",
        "print(len(yint))"
      ],
      "execution_count": 8,
      "outputs": [
        {
          "output_type": "stream",
          "text": [
            "[1, 0, 1, 0, 1, 0, 1, 0, 1, 1, 0, 1, 0, 1, 1, 1, 1, 1, 0, 1, 0, 0, 1, 1, 1, 1, 1, 0, 0, 0, 0, 1, 0, 0, 0, 0, 0, 1, 1, 1, 0, 0, 0, 1, 0, 1, 0, 0, 1, 0, 0, 0, 0, 1, 0, 0, 1, 0, 0, 0, 0, 1, 0, 0, 1, 0, 1, 0, 0, 0, 1, 0, 1, 0, 0, 0, 0, 0, 1, 0, 0, 0, 0, 0, 1, 0, 0, 0, 1, 0, 0, 0, 0, 1, 0, 0, 0, 0, 0, 1, 1, 0, 0, 0, 0, 0, 0, 0, 0, 1, 1, 1, 0, 0, 1, 1, 1, 0, 0, 0, 1, 0, 0, 0, 1, 1, 0, 0, 1, 1, 1, 1, 1, 0, 0, 0, 0, 0, 0, 0, 0, 0, 0, 1, 0, 0, 0, 0, 0, 0, 0, 0, 1, 0, 1, 1, 0, 0, 0, 1, 0, 0, 0, 0, 1, 1, 0, 0, 0, 0, 1, 1, 0, 0, 0, 1, 0, 1, 0, 1, 0, 0, 0, 0, 0, 1, 1, 1, 1, 1, 0, 0, 1, 1, 0, 1, 0, 1, 1, 1, 0, 0, 0, 0, 0, 0, 1, 1, 0, 1, 0, 0, 0, 1, 1, 1, 1, 0, 1, 1, 1, 1, 0, 0, 0, 0, 0, 1, 0, 0, 1, 1, 0, 0, 0, 1, 1, 1, 1, 0, 0, 0, 1, 1, 0, 1, 0, 0, 0, 0, 0, 0, 0, 0, 1, 1, 0, 0, 0, 1, 0, 1, 0, 0, 1, 0, 1, 0, 0, 1, 1, 0, 0, 0, 0, 0, 1, 0, 0, 0, 1, 0, 0, 1, 1, 0, 0, 1, 0, 0, 0, 1, 1, 1, 0, 0, 1, 0, 1, 0, 1, 1, 0, 1, 0, 0, 1, 0, 1, 1, 0, 0, 1, 0, 1, 0, 0, 1, 0, 1, 0, 1, 1, 1, 0, 0, 1, 0, 1, 0, 0, 0, 1, 0, 0, 0, 0, 1, 1, 1, 0, 0, 0, 0, 0, 0, 0, 0, 0, 1, 0, 0, 0, 0, 0, 1, 1, 1, 0, 1, 1, 0, 0, 1, 0, 0, 1, 0, 0, 1, 1, 0, 0, 0, 0, 1, 0, 0, 1, 0, 0, 0, 0, 0, 0, 0, 1, 1, 1, 0, 0, 1, 0, 0, 1, 0, 0, 1, 0, 1, 1, 0, 1, 0, 1, 0, 1, 0, 1, 1, 0, 0, 0, 0, 1, 1, 0, 1, 0, 1, 0, 0, 0, 0, 1, 1, 0, 1, 0, 1, 0, 0, 0, 0, 0, 1, 0, 0, 0, 0, 1, 0, 0, 1, 1, 1, 0, 0, 1, 0, 0, 1, 0, 0, 0, 1, 0, 0, 1, 0, 0, 0, 0, 0, 0, 0, 0, 0, 1, 0, 0, 0, 0, 0, 0, 0, 1, 0, 0, 0, 1, 0, 0, 0, 1, 1, 0, 0, 0, 0, 0, 0, 0, 1, 0, 0, 0, 0, 1, 0, 0, 0, 1, 0, 0, 0, 1, 0, 0, 0, 1, 0, 0, 0, 0, 1, 1, 0, 0, 0, 0, 0, 0, 1, 0, 0, 0, 0, 0, 0, 0, 0, 0, 0, 0, 1, 0, 0, 0, 1, 1, 1, 1, 0, 0, 1, 1, 0, 0, 0, 0, 0, 0, 0, 0, 0, 0, 0, 0, 0, 1, 1, 0, 0, 0, 0, 0, 0, 0, 1, 0, 0, 0, 0, 0, 0, 0, 1, 0, 1, 1, 0, 0, 0, 1, 0, 1, 0, 1, 0, 1, 0, 1, 0, 0, 1, 0, 0, 1, 0, 0, 0, 0, 1, 1, 0, 1, 0, 0, 0, 0, 1, 1, 0, 1, 0, 0, 0, 1, 1, 0, 0, 0, 0, 0, 0, 0, 0, 0, 0, 1, 0, 0, 0, 0, 1, 0, 0, 1, 0, 0, 0, 1, 0, 0, 0, 1, 1, 1, 0, 0, 0, 0, 0, 0, 1, 0, 0, 0, 1, 0, 1, 1, 1, 1, 0, 1, 1, 0, 0, 0, 0, 0, 0, 0, 1, 1, 0, 1, 0, 0, 1, 0, 1, 0, 0, 0, 0, 0, 1, 0, 1, 0, 1, 0, 1, 1, 0, 0, 0, 0, 1, 1, 0, 0, 0, 1, 0, 1, 1, 0, 0, 1, 0, 0, 1, 1, 0, 0, 1, 0, 0, 1, 0, 0, 0, 0, 0, 0, 0, 1, 1, 1, 0, 0, 0, 0, 0, 0, 1, 1, 0, 0, 1, 0, 0, 1, 0, 1, 1, 1, 0, 0, 1, 1, 1, 0, 1, 0, 1, 0, 1, 0, 0, 0, 0, 1, 0]\n",
            "768\n"
          ],
          "name": "stdout"
        }
      ]
    },
    {
      "cell_type": "code",
      "metadata": {
        "id": "ChluqE8uAh4M"
      },
      "source": [
        "# Now convert to an array (x val are float therefore we need to convert y to float)\r\n",
        "y = np.array(yint, dtype='float64')"
      ],
      "execution_count": 9,
      "outputs": []
    },
    {
      "cell_type": "markdown",
      "metadata": {
        "id": "im6GSz_cFH0G"
      },
      "source": [
        "\r\n",
        "$x^{\\prime}=\\frac{x-\\mu}{\\sigma}$"
      ]
    },
    {
      "cell_type": "code",
      "metadata": {
        "colab": {
          "base_uri": "https://localhost:8080/"
        },
        "id": "4zjiOqYyDX5k",
        "outputId": "32102331-6cc2-4940-9666-aee47cb5bc24"
      },
      "source": [
        "# Normalization is a scaling technique:- https://medium.com/greyatom/why-how-and-when-to-scale-your-features-4b30ab09db5e\r\n",
        "# Feature Normalization. All features should have the same range of values (-1,1)\r\n",
        "sc = StandardScaler()\r\n",
        "x = sc.fit_transform(x)\r\n",
        "print(x[:2])"
      ],
      "execution_count": 10,
      "outputs": [
        {
          "output_type": "stream",
          "text": [
            "[[ 0.63994726  0.84832379  0.14964075  0.90726993 -0.69289057  0.20401277\n",
            "   1.4259954 ]\n",
            " [-0.84488505 -1.12339636 -0.16054575  0.53090156 -0.69289057 -0.68442195\n",
            "  -0.19067191]]\n"
          ],
          "name": "stdout"
        }
      ]
    },
    {
      "cell_type": "code",
      "metadata": {
        "colab": {
          "base_uri": "https://localhost:8080/"
        },
        "id": "c-gJqjppH-DQ",
        "outputId": "acea291e-584a-4401-a4d3-d6fe6a4c21bd"
      },
      "source": [
        "# Now we convert the arrays to PyTorch tensors\r\n",
        "x = torch.tensor(x)\r\n",
        "print(x.shape)\r\n",
        "y = torch.tensor(y)\r\n",
        "print(y.shape)\r\n",
        "# y = torch.unsqueeze(y, dim=1) # OR\r\n",
        "# unsqueeze is used to add dimension in tensor\r\n",
        "y = y.unsqueeze(1)\r\n",
        "y.shape"
      ],
      "execution_count": 11,
      "outputs": [
        {
          "output_type": "stream",
          "text": [
            "torch.Size([768, 7])\n",
            "torch.Size([768])\n"
          ],
          "name": "stdout"
        },
        {
          "output_type": "execute_result",
          "data": {
            "text/plain": [
              "torch.Size([768, 1])"
            ]
          },
          "metadata": {
            "tags": []
          },
          "execution_count": 11
        }
      ]
    },
    {
      "cell_type": "code",
      "metadata": {
        "id": "N76E8Mw-IZVS"
      },
      "source": [
        "# Build our own PYTORCH custom dataset\r\n",
        "\r\n",
        "# Inheriting the built-in class Dataset\r\n",
        "# Override the inbuilt method of class Datasetfrom torch.utils.data\r\n",
        "class Dataset(Dataset):\r\n",
        "  def __init__(self, x, y):\r\n",
        "    self.x = x\r\n",
        "    self.y = y\r\n",
        "  def __getitem__(self, index):\r\n",
        "    return (self.x[index], self.y[index])\r\n",
        "  def __len__(self):\r\n",
        "    return len(self.x)"
      ],
      "execution_count": 12,
      "outputs": []
    },
    {
      "cell_type": "code",
      "metadata": {
        "colab": {
          "base_uri": "https://localhost:8080/"
        },
        "id": "jbqKmk_oeh4Y",
        "outputId": "5c999c5a-3fa3-47a0-b599-071e721cf9c4"
      },
      "source": [
        "dataset = Dataset(x, y)\r\n",
        "print(len(dataset))"
      ],
      "execution_count": 13,
      "outputs": [
        {
          "output_type": "stream",
          "text": [
            "768\n"
          ],
          "name": "stdout"
        }
      ]
    },
    {
      "cell_type": "code",
      "metadata": {
        "id": "MnVy_I9ljKu4"
      },
      "source": [
        "# Load the data to your dataloader for batch processing and shuffling\r\n",
        "train_loader = torch.utils.data.DataLoader(dataset=dataset, batch_size=32, shuffle=True)"
      ],
      "execution_count": 14,
      "outputs": []
    },
    {
      "cell_type": "code",
      "metadata": {
        "colab": {
          "base_uri": "https://localhost:8080/"
        },
        "id": "8CsyIZf1jM5g",
        "outputId": "6f993aa2-8edc-4d16-999a-d15f080710a8"
      },
      "source": [
        "print(type(train_loader))\r\n",
        "print(len(train_loader))\r\n",
        "print(dir(train_loader))"
      ],
      "execution_count": 15,
      "outputs": [
        {
          "output_type": "stream",
          "text": [
            "torch.utils.data.dataloader.DataLoader\n",
            "24\n",
            "['_DataLoader__initialized', '_DataLoader__multiprocessing_context', '_IterableDataset_len_called', '__abstractmethods__', '__annotations__', '__args__', '__class__', '__delattr__', '__dict__', '__dir__', '__doc__', '__eq__', '__extra__', '__format__', '__ge__', '__getattribute__', '__gt__', '__hash__', '__init__', '__init_subclass__', '__iter__', '__le__', '__len__', '__lt__', '__module__', '__ne__', '__new__', '__next_in_mro__', '__orig_bases__', '__origin__', '__parameters__', '__reduce__', '__reduce_ex__', '__repr__', '__setattr__', '__sizeof__', '__slots__', '__str__', '__subclasshook__', '__tree_hash__', '__weakref__', '_abc_cache', '_abc_generic_negative_cache', '_abc_generic_negative_cache_version', '_abc_registry', '_auto_collation', '_dataset_kind', '_get_iterator', '_gorg', '_index_sampler', '_iterator', 'batch_sampler', 'batch_size', 'collate_fn', 'dataset', 'drop_last', 'generator', 'multiprocessing_context', 'num_workers', 'persistent_workers', 'pin_memory', 'prefetch_factor', 'sampler', 'timeout', 'worker_init_fn']\n"
          ],
          "name": "stdout"
        }
      ]
    },
    {
      "cell_type": "code",
      "metadata": {
        "colab": {
          "base_uri": "https://localhost:8080/"
        },
        "id": "BCxRODurj7IF",
        "outputId": "2e1b6346-2d65-45b5-c2e8-95a2987e2b4b"
      },
      "source": [
        "# Let's have a look at the data loader\r\n",
        "print(\"there are {} batches in the data_loader\".format(len(train_loader)))\r\n",
        "for (x,y) in train_loader:\r\n",
        "  print('For one iteration (or batch) there are')\r\n",
        "  print('Data: {}'.format(x.shape))\r\n",
        "  # print(x)\r\n",
        "  print('Labels: {}'.format(y.shape))\r\n",
        "  # print(y)\r\n",
        "  break"
      ],
      "execution_count": 16,
      "outputs": [
        {
          "output_type": "stream",
          "text": [
            "there are 24 batches in the data_loader\n",
            "For one iteration (or batch) there are\n",
            "Data: torch.Size([32, 7])\n",
            "Labels: torch.Size([32, 1])\n"
          ],
          "name": "stdout"
        }
      ]
    },
    {
      "cell_type": "code",
      "metadata": {
        "colab": {
          "base_uri": "https://localhost:8080/"
        },
        "id": "cg0KSpUsmCYU",
        "outputId": "46fd43b1-f31f-492c-a7a7-34875917abf8"
      },
      "source": [
        "no_of_batches = 768/32\r\n",
        "no_of_batches"
      ],
      "execution_count": 17,
      "outputs": [
        {
          "output_type": "execute_result",
          "data": {
            "text/plain": [
              "24.0"
            ]
          },
          "metadata": {
            "tags": []
          },
          "execution_count": 17
        }
      ]
    },
    {
      "cell_type": "markdown",
      "metadata": {
        "id": "PnwX1XQy4acv"
      },
      "source": [
        "![nn.png](data:image/png;base64,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)"
      ]
    },
    {
      "cell_type": "code",
      "metadata": {
        "id": "GgYp2zz6nS6u"
      },
      "source": [
        "# Now let's build the above network\r\n",
        "# Every class has attributes and functionality\r\n",
        "# LAYERS are attributes\r\n",
        "# Forward propogation method is functionality\r\n",
        "class Model(nn.Module):\r\n",
        "  \"\"\"\r\n",
        "  Here we are inheriting from nn.Module class.\r\n",
        "  To inherit all the attribute and functionality to Model class\r\n",
        "  we use the keyword \"super\" & pass 2 attributes -- \r\n",
        "  1. the name of the child class which is Model, and\r\n",
        "  2. the class keyword self\r\n",
        "\r\n",
        "  Also, we can name the layer in 3 ways ---\r\n",
        "  1. FC - Fully Connected Layer\r\n",
        "  2. MLP - multi layer perceptron\r\n",
        "  3. Linear Layer (In pytorch we say this that's why we use nn.Linear)\r\n",
        "  \"\"\"\r\n",
        "  def __init__(self, input_features, output_features):\r\n",
        "    super(Model, self).__init__()\r\n",
        "    self.fc1 = nn.Linear(input_features, 5)\r\n",
        "    self.fc2 = nn.Linear(5, 4)\r\n",
        "    self.fc3 = nn.Linear(4,3)\r\n",
        "    self.fc4 = nn.Linear(3,output_features)\r\n",
        "    # we r using 2 activation fn. Sigmoid for the output layer\r\n",
        "    # as we have o/p as 0 & 1, therefore we will use BCE and \r\n",
        "    # for that o/p shd be passed through sigmoid fn\r\n",
        "    self.sigmoid = nn.Sigmoid()\r\n",
        "    # tanh for the hidden layers\r\n",
        "    self.tanh = nn.Tanh()\r\n",
        "  \r\n",
        "  def forward(self, x):\r\n",
        "    out = self.fc1(x)\r\n",
        "    out = self.tanh(out)\r\n",
        "    out = self.fc2(out)\r\n",
        "    out = self.tanh(out)\r\n",
        "    out = self.fc3(out)\r\n",
        "    out = self.tanh(out)\r\n",
        "    out = self.fc4(out)\r\n",
        "    out = self.sigmoid(out)\r\n",
        "    return out\r\n",
        "\r\n"
      ],
      "execution_count": 43,
      "outputs": []
    },
    {
      "cell_type": "markdown",
      "metadata": {
        "id": "ZwJu3bmfncN4"
      },
      "source": [
        "\r\n",
        "\r\n",
        "$H_{p}(q)=-\\frac{1}{N} \\sum_{i=1}^{N} y_{i} \\cdot \\log \\left(p\\left(y_{i}\\right)\\right)+\\left(1-y_{i}\\right) \\cdot \\log \\left(1-p\\left(y_{i}\\right)\\right)$\r\n",
        "\r\n",
        "cost = -(Y torch.log(hypothesis) + (1 - Y) torch.log(1 - hypothesis)).mean()\r\n"
      ]
    },
    {
      "cell_type": "code",
      "metadata": {
        "colab": {
          "base_uri": "https://localhost:8080/"
        },
        "id": "nwMm3IJ8mp_c",
        "outputId": "0cde7ba2-3ba1-422f-dbe3-b80e3dbe5f41"
      },
      "source": [
        "# Create the network (an object of the Net class)\r\n",
        "net = Model(7, 1)\r\n",
        "# print(help(net.parameters()))\r\n",
        "#In Binary Cross Entropy: the input and output should have the same shape \r\n",
        "#size_average = True --> the losses are averaged over observations for each minibatch\r\n",
        "criterion = nn.BCELoss(size_average=True)  \r\n",
        "# We will use SGD with momentum with a learning rate of 0.1\r\n",
        "# nn.parameters() are the weights for ALL the layers\r\n",
        "optimizer = torch.optim.SGD(net.parameters(), lr=0.1, momentum=0.9)"
      ],
      "execution_count": 44,
      "outputs": [
        {
          "output_type": "stream",
          "text": [
            "/usr/local/lib/python3.6/dist-packages/torch/nn/_reduction.py:44: UserWarning: size_average and reduce args will be deprecated, please use reduction='mean' instead.\n",
            "  warnings.warn(warning.format(ret))\n"
          ],
          "name": "stderr"
        }
      ]
    },
    {
      "cell_type": "code",
      "metadata": {
        "colab": {
          "base_uri": "https://localhost:8080/"
        },
        "id": "1An_gbKWpPm1",
        "outputId": "397a8cc8-5d6e-4939-b1c9-e78beee4879d"
      },
      "source": [
        "# Train the network \r\n",
        "num_epochs = 200\r\n",
        "for epoch in range(num_epochs):\r\n",
        "  for inputs, labels in train_loader:\r\n",
        "    inputs = inputs.float()\r\n",
        "    labels = labels.float()\r\n",
        "    # Feed Forward\r\n",
        "    # net.forward(inputs) can also be written as \r\n",
        "    output = net(inputs)\r\n",
        "    # Loss Calc\r\n",
        "    loss = criterion(output, labels)\r\n",
        "    # Forward propogation has 3 rules in Pytorch\r\n",
        "    # 1. Clear the Gradient buffer(as we don't want to accumulate gradients) [w <- w - lr*gradient]\r\n",
        "    optimizer.zero_grad()\r\n",
        "    # 2. Calculate the gradient (or BackProp)\r\n",
        "    loss.backward()\r\n",
        "    # 3. Weight update [w <- w - lr*gradient]\r\n",
        "    optimizer.step()\r\n",
        "  \r\n",
        "  # Accuracy Calculation\r\n",
        "  output = (output>0.5) # See the below cell to see what it does\r\n",
        "  # Convert Bool to int using .long()\r\n",
        "  output = output.long()\r\n",
        "  # Accuracy : (output == labels).float().sum() / output.shape[0]\r\n",
        "  accuracy = (output == labels).float().mean()\r\n",
        "  # print Stats\r\n",
        "  print('Epochs {} / {}. Loss: {:.3f}. Accuracy: {:.3f}'.format(epoch, num_epochs, loss, accuracy))"
      ],
      "execution_count": 51,
      "outputs": [
        {
          "output_type": "stream",
          "text": [
            "Epochs 0 / 200. Loss: 0.437. Accuracy: 0.656\n",
            "Epochs 1 / 200. Loss: 0.336. Accuracy: 0.781\n",
            "Epochs 2 / 200. Loss: 0.439. Accuracy: 0.844\n",
            "Epochs 3 / 200. Loss: 0.457. Accuracy: 0.719\n",
            "Epochs 4 / 200. Loss: 0.663. Accuracy: 0.781\n",
            "Epochs 5 / 200. Loss: 0.442. Accuracy: 0.719\n",
            "Epochs 6 / 200. Loss: 0.314. Accuracy: 0.875\n",
            "Epochs 7 / 200. Loss: 0.396. Accuracy: 0.812\n",
            "Epochs 8 / 200. Loss: 0.378. Accuracy: 0.781\n",
            "Epochs 9 / 200. Loss: 0.403. Accuracy: 0.781\n",
            "Epochs 10 / 200. Loss: 0.518. Accuracy: 0.719\n",
            "Epochs 11 / 200. Loss: 0.386. Accuracy: 0.781\n",
            "Epochs 12 / 200. Loss: 0.532. Accuracy: 0.719\n",
            "Epochs 13 / 200. Loss: 0.515. Accuracy: 0.688\n",
            "Epochs 14 / 200. Loss: 0.370. Accuracy: 0.938\n",
            "Epochs 15 / 200. Loss: 0.346. Accuracy: 0.844\n",
            "Epochs 16 / 200. Loss: 0.436. Accuracy: 0.844\n",
            "Epochs 17 / 200. Loss: 0.524. Accuracy: 0.719\n",
            "Epochs 18 / 200. Loss: 0.324. Accuracy: 0.844\n",
            "Epochs 19 / 200. Loss: 0.383. Accuracy: 0.781\n",
            "Epochs 20 / 200. Loss: 0.479. Accuracy: 0.812\n",
            "Epochs 21 / 200. Loss: 0.338. Accuracy: 0.812\n",
            "Epochs 22 / 200. Loss: 0.273. Accuracy: 0.875\n",
            "Epochs 23 / 200. Loss: 0.546. Accuracy: 0.719\n",
            "Epochs 24 / 200. Loss: 0.581. Accuracy: 0.656\n",
            "Epochs 25 / 200. Loss: 0.485. Accuracy: 0.719\n",
            "Epochs 26 / 200. Loss: 0.394. Accuracy: 0.781\n",
            "Epochs 27 / 200. Loss: 0.371. Accuracy: 0.812\n",
            "Epochs 28 / 200. Loss: 0.522. Accuracy: 0.688\n",
            "Epochs 29 / 200. Loss: 0.464. Accuracy: 0.750\n",
            "Epochs 30 / 200. Loss: 0.343. Accuracy: 0.812\n",
            "Epochs 31 / 200. Loss: 0.361. Accuracy: 0.781\n",
            "Epochs 32 / 200. Loss: 0.502. Accuracy: 0.781\n",
            "Epochs 33 / 200. Loss: 0.430. Accuracy: 0.719\n",
            "Epochs 34 / 200. Loss: 0.492. Accuracy: 0.656\n",
            "Epochs 35 / 200. Loss: 0.514. Accuracy: 0.750\n",
            "Epochs 36 / 200. Loss: 0.280. Accuracy: 0.875\n",
            "Epochs 37 / 200. Loss: 0.506. Accuracy: 0.750\n",
            "Epochs 38 / 200. Loss: 0.559. Accuracy: 0.656\n",
            "Epochs 39 / 200. Loss: 0.578. Accuracy: 0.750\n",
            "Epochs 40 / 200. Loss: 0.497. Accuracy: 0.688\n",
            "Epochs 41 / 200. Loss: 0.371. Accuracy: 0.875\n",
            "Epochs 42 / 200. Loss: 0.317. Accuracy: 0.781\n",
            "Epochs 43 / 200. Loss: 0.374. Accuracy: 0.750\n",
            "Epochs 44 / 200. Loss: 0.417. Accuracy: 0.750\n",
            "Epochs 45 / 200. Loss: 0.303. Accuracy: 0.812\n",
            "Epochs 46 / 200. Loss: 0.261. Accuracy: 0.906\n",
            "Epochs 47 / 200. Loss: 0.501. Accuracy: 0.750\n",
            "Epochs 48 / 200. Loss: 0.688. Accuracy: 0.688\n",
            "Epochs 49 / 200. Loss: 0.430. Accuracy: 0.781\n",
            "Epochs 50 / 200. Loss: 0.335. Accuracy: 0.812\n",
            "Epochs 51 / 200. Loss: 0.369. Accuracy: 0.781\n",
            "Epochs 52 / 200. Loss: 0.478. Accuracy: 0.844\n",
            "Epochs 53 / 200. Loss: 0.521. Accuracy: 0.688\n",
            "Epochs 54 / 200. Loss: 0.447. Accuracy: 0.750\n",
            "Epochs 55 / 200. Loss: 0.673. Accuracy: 0.594\n",
            "Epochs 56 / 200. Loss: 0.557. Accuracy: 0.688\n",
            "Epochs 57 / 200. Loss: 0.525. Accuracy: 0.688\n",
            "Epochs 58 / 200. Loss: 0.416. Accuracy: 0.750\n",
            "Epochs 59 / 200. Loss: 0.353. Accuracy: 0.781\n",
            "Epochs 60 / 200. Loss: 0.374. Accuracy: 0.719\n",
            "Epochs 61 / 200. Loss: 0.520. Accuracy: 0.812\n",
            "Epochs 62 / 200. Loss: 0.416. Accuracy: 0.781\n",
            "Epochs 63 / 200. Loss: 0.501. Accuracy: 0.844\n",
            "Epochs 64 / 200. Loss: 0.465. Accuracy: 0.844\n",
            "Epochs 65 / 200. Loss: 0.298. Accuracy: 0.938\n",
            "Epochs 66 / 200. Loss: 0.368. Accuracy: 0.812\n",
            "Epochs 67 / 200. Loss: 0.521. Accuracy: 0.812\n",
            "Epochs 68 / 200. Loss: 0.296. Accuracy: 0.938\n",
            "Epochs 69 / 200. Loss: 0.458. Accuracy: 0.719\n",
            "Epochs 70 / 200. Loss: 0.368. Accuracy: 0.906\n",
            "Epochs 71 / 200. Loss: 0.486. Accuracy: 0.844\n",
            "Epochs 72 / 200. Loss: 0.302. Accuracy: 0.875\n",
            "Epochs 73 / 200. Loss: 0.348. Accuracy: 0.812\n",
            "Epochs 74 / 200. Loss: 0.489. Accuracy: 0.812\n",
            "Epochs 75 / 200. Loss: 0.662. Accuracy: 0.750\n",
            "Epochs 76 / 200. Loss: 0.655. Accuracy: 0.688\n",
            "Epochs 77 / 200. Loss: 0.373. Accuracy: 0.875\n",
            "Epochs 78 / 200. Loss: 0.500. Accuracy: 0.812\n",
            "Epochs 79 / 200. Loss: 0.433. Accuracy: 0.812\n",
            "Epochs 80 / 200. Loss: 0.350. Accuracy: 0.812\n",
            "Epochs 81 / 200. Loss: 0.241. Accuracy: 0.906\n",
            "Epochs 82 / 200. Loss: 0.347. Accuracy: 0.781\n",
            "Epochs 83 / 200. Loss: 0.380. Accuracy: 0.844\n",
            "Epochs 84 / 200. Loss: 0.582. Accuracy: 0.781\n",
            "Epochs 85 / 200. Loss: 0.419. Accuracy: 0.719\n",
            "Epochs 86 / 200. Loss: 0.357. Accuracy: 0.781\n",
            "Epochs 87 / 200. Loss: 0.457. Accuracy: 0.750\n",
            "Epochs 88 / 200. Loss: 0.673. Accuracy: 0.656\n",
            "Epochs 89 / 200. Loss: 0.486. Accuracy: 0.719\n",
            "Epochs 90 / 200. Loss: 0.357. Accuracy: 0.844\n",
            "Epochs 91 / 200. Loss: 0.443. Accuracy: 0.688\n",
            "Epochs 92 / 200. Loss: 0.481. Accuracy: 0.781\n",
            "Epochs 93 / 200. Loss: 0.483. Accuracy: 0.812\n",
            "Epochs 94 / 200. Loss: 0.432. Accuracy: 0.750\n",
            "Epochs 95 / 200. Loss: 0.447. Accuracy: 0.781\n",
            "Epochs 96 / 200. Loss: 0.510. Accuracy: 0.656\n",
            "Epochs 97 / 200. Loss: 0.476. Accuracy: 0.781\n",
            "Epochs 98 / 200. Loss: 0.474. Accuracy: 0.719\n",
            "Epochs 99 / 200. Loss: 0.512. Accuracy: 0.688\n",
            "Epochs 100 / 200. Loss: 0.449. Accuracy: 0.750\n",
            "Epochs 101 / 200. Loss: 0.357. Accuracy: 0.844\n",
            "Epochs 102 / 200. Loss: 0.364. Accuracy: 0.812\n",
            "Epochs 103 / 200. Loss: 0.394. Accuracy: 0.781\n",
            "Epochs 104 / 200. Loss: 0.526. Accuracy: 0.812\n",
            "Epochs 105 / 200. Loss: 0.365. Accuracy: 0.844\n",
            "Epochs 106 / 200. Loss: 0.290. Accuracy: 0.844\n",
            "Epochs 107 / 200. Loss: 0.337. Accuracy: 0.875\n",
            "Epochs 108 / 200. Loss: 0.470. Accuracy: 0.750\n",
            "Epochs 109 / 200. Loss: 0.339. Accuracy: 0.875\n",
            "Epochs 110 / 200. Loss: 0.405. Accuracy: 0.625\n",
            "Epochs 111 / 200. Loss: 0.408. Accuracy: 0.750\n",
            "Epochs 112 / 200. Loss: 0.621. Accuracy: 0.656\n",
            "Epochs 113 / 200. Loss: 0.344. Accuracy: 0.781\n",
            "Epochs 114 / 200. Loss: 0.281. Accuracy: 0.844\n",
            "Epochs 115 / 200. Loss: 0.428. Accuracy: 0.750\n",
            "Epochs 116 / 200. Loss: 0.363. Accuracy: 0.812\n",
            "Epochs 117 / 200. Loss: 0.529. Accuracy: 0.719\n",
            "Epochs 118 / 200. Loss: 0.330. Accuracy: 0.844\n",
            "Epochs 119 / 200. Loss: 0.297. Accuracy: 0.812\n",
            "Epochs 120 / 200. Loss: 0.370. Accuracy: 0.844\n",
            "Epochs 121 / 200. Loss: 0.381. Accuracy: 0.875\n",
            "Epochs 122 / 200. Loss: 0.412. Accuracy: 0.812\n",
            "Epochs 123 / 200. Loss: 0.497. Accuracy: 0.750\n",
            "Epochs 124 / 200. Loss: 0.318. Accuracy: 0.875\n",
            "Epochs 125 / 200. Loss: 0.415. Accuracy: 0.844\n",
            "Epochs 126 / 200. Loss: 0.307. Accuracy: 0.844\n",
            "Epochs 127 / 200. Loss: 0.315. Accuracy: 0.875\n",
            "Epochs 128 / 200. Loss: 0.465. Accuracy: 0.750\n",
            "Epochs 129 / 200. Loss: 0.378. Accuracy: 0.781\n",
            "Epochs 130 / 200. Loss: 0.447. Accuracy: 0.781\n",
            "Epochs 131 / 200. Loss: 0.547. Accuracy: 0.688\n",
            "Epochs 132 / 200. Loss: 0.360. Accuracy: 0.906\n",
            "Epochs 133 / 200. Loss: 0.355. Accuracy: 0.750\n",
            "Epochs 134 / 200. Loss: 0.443. Accuracy: 0.719\n",
            "Epochs 135 / 200. Loss: 0.279. Accuracy: 0.906\n",
            "Epochs 136 / 200. Loss: 0.451. Accuracy: 0.812\n",
            "Epochs 137 / 200. Loss: 0.336. Accuracy: 0.875\n",
            "Epochs 138 / 200. Loss: 0.555. Accuracy: 0.719\n",
            "Epochs 139 / 200. Loss: 0.392. Accuracy: 0.781\n",
            "Epochs 140 / 200. Loss: 0.347. Accuracy: 0.844\n",
            "Epochs 141 / 200. Loss: 0.289. Accuracy: 0.906\n",
            "Epochs 142 / 200. Loss: 0.663. Accuracy: 0.594\n",
            "Epochs 143 / 200. Loss: 0.336. Accuracy: 0.875\n",
            "Epochs 144 / 200. Loss: 0.538. Accuracy: 0.781\n",
            "Epochs 145 / 200. Loss: 0.575. Accuracy: 0.688\n",
            "Epochs 146 / 200. Loss: 0.346. Accuracy: 0.875\n",
            "Epochs 147 / 200. Loss: 0.410. Accuracy: 0.750\n",
            "Epochs 148 / 200. Loss: 0.486. Accuracy: 0.719\n",
            "Epochs 149 / 200. Loss: 0.523. Accuracy: 0.781\n",
            "Epochs 150 / 200. Loss: 0.521. Accuracy: 0.719\n",
            "Epochs 151 / 200. Loss: 0.436. Accuracy: 0.781\n",
            "Epochs 152 / 200. Loss: 0.320. Accuracy: 0.844\n",
            "Epochs 153 / 200. Loss: 0.345. Accuracy: 0.750\n",
            "Epochs 154 / 200. Loss: 0.241. Accuracy: 0.938\n",
            "Epochs 155 / 200. Loss: 0.458. Accuracy: 0.781\n",
            "Epochs 156 / 200. Loss: 0.526. Accuracy: 0.812\n",
            "Epochs 157 / 200. Loss: 0.664. Accuracy: 0.656\n",
            "Epochs 158 / 200. Loss: 0.443. Accuracy: 0.719\n",
            "Epochs 159 / 200. Loss: 0.637. Accuracy: 0.688\n",
            "Epochs 160 / 200. Loss: 0.508. Accuracy: 0.719\n",
            "Epochs 161 / 200. Loss: 0.390. Accuracy: 0.781\n",
            "Epochs 162 / 200. Loss: 0.342. Accuracy: 0.812\n",
            "Epochs 163 / 200. Loss: 0.434. Accuracy: 0.719\n",
            "Epochs 164 / 200. Loss: 0.369. Accuracy: 0.812\n",
            "Epochs 165 / 200. Loss: 0.339. Accuracy: 0.812\n",
            "Epochs 166 / 200. Loss: 0.361. Accuracy: 0.750\n",
            "Epochs 167 / 200. Loss: 0.492. Accuracy: 0.781\n",
            "Epochs 168 / 200. Loss: 0.440. Accuracy: 0.719\n",
            "Epochs 169 / 200. Loss: 0.448. Accuracy: 0.781\n",
            "Epochs 170 / 200. Loss: 0.339. Accuracy: 0.812\n",
            "Epochs 171 / 200. Loss: 0.559. Accuracy: 0.719\n",
            "Epochs 172 / 200. Loss: 0.406. Accuracy: 0.781\n",
            "Epochs 173 / 200. Loss: 0.413. Accuracy: 0.781\n",
            "Epochs 174 / 200. Loss: 0.324. Accuracy: 0.812\n",
            "Epochs 175 / 200. Loss: 0.464. Accuracy: 0.844\n",
            "Epochs 176 / 200. Loss: 0.356. Accuracy: 0.906\n",
            "Epochs 177 / 200. Loss: 0.260. Accuracy: 0.906\n",
            "Epochs 178 / 200. Loss: 0.411. Accuracy: 0.844\n",
            "Epochs 179 / 200. Loss: 0.549. Accuracy: 0.688\n",
            "Epochs 180 / 200. Loss: 0.480. Accuracy: 0.812\n",
            "Epochs 181 / 200. Loss: 0.394. Accuracy: 0.750\n",
            "Epochs 182 / 200. Loss: 0.320. Accuracy: 0.875\n",
            "Epochs 183 / 200. Loss: 0.603. Accuracy: 0.781\n",
            "Epochs 184 / 200. Loss: 0.546. Accuracy: 0.688\n",
            "Epochs 185 / 200. Loss: 0.394. Accuracy: 0.812\n",
            "Epochs 186 / 200. Loss: 0.419. Accuracy: 0.812\n",
            "Epochs 187 / 200. Loss: 0.379. Accuracy: 0.781\n",
            "Epochs 188 / 200. Loss: 0.251. Accuracy: 0.938\n",
            "Epochs 189 / 200. Loss: 0.381. Accuracy: 0.719\n",
            "Epochs 190 / 200. Loss: 0.358. Accuracy: 0.781\n",
            "Epochs 191 / 200. Loss: 0.447. Accuracy: 0.750\n",
            "Epochs 192 / 200. Loss: 0.543. Accuracy: 0.719\n",
            "Epochs 193 / 200. Loss: 0.375. Accuracy: 0.844\n",
            "Epochs 194 / 200. Loss: 0.386. Accuracy: 0.781\n",
            "Epochs 195 / 200. Loss: 0.522. Accuracy: 0.688\n",
            "Epochs 196 / 200. Loss: 0.434. Accuracy: 0.781\n",
            "Epochs 197 / 200. Loss: 0.636. Accuracy: 0.688\n",
            "Epochs 198 / 200. Loss: 0.428. Accuracy: 0.781\n",
            "Epochs 199 / 200. Loss: 0.373. Accuracy: 0.875\n"
          ],
          "name": "stdout"
        }
      ]
    },
    {
      "cell_type": "code",
      "metadata": {
        "colab": {
          "base_uri": "https://localhost:8080/"
        },
        "id": "NlGHasqY5OQl",
        "outputId": "580c076a-6f8a-4813-e10d-2b3b4f6461be"
      },
      "source": [
        "aa = torch.tensor([3,4,5])\r\n",
        "#print(aa>3)\r\n",
        "aa>3"
      ],
      "execution_count": 32,
      "outputs": [
        {
          "output_type": "execute_result",
          "data": {
            "text/plain": [
              "tensor([False,  True,  True])"
            ]
          },
          "metadata": {
            "tags": []
          },
          "execution_count": 32
        }
      ]
    },
    {
      "cell_type": "code",
      "metadata": {
        "colab": {
          "base_uri": "https://localhost:8080/"
        },
        "id": "w07EdpNj5nv6",
        "outputId": "22a6e073-4242-4f39-ef87-4d110c9c1943"
      },
      "source": [
        "bb = torch.tensor([3,1,5])\r\n",
        "aa == bb"
      ],
      "execution_count": 33,
      "outputs": [
        {
          "output_type": "execute_result",
          "data": {
            "text/plain": [
              "tensor([ True, False,  True])"
            ]
          },
          "metadata": {
            "tags": []
          },
          "execution_count": 33
        }
      ]
    },
    {
      "cell_type": "code",
      "metadata": {
        "id": "yMm5SK8i6kUj"
      },
      "source": [
        ""
      ],
      "execution_count": null,
      "outputs": []
    }
  ]
}