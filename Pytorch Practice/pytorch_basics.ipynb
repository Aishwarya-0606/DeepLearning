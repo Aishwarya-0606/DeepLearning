{
  "nbformat": 4,
  "nbformat_minor": 0,
  "metadata": {
    "colab": {
      "name": "pytorch_basics.ipynb",
      "provenance": [],
      "authorship_tag": "ABX9TyMJ8aAoYNNIeB+9NkqyjC1q",
      "include_colab_link": true
    },
    "kernelspec": {
      "name": "python3",
      "display_name": "Python 3"
    },
    "accelerator": "GPU"
  },
  "cells": [
    {
      "cell_type": "markdown",
      "metadata": {
        "id": "view-in-github",
        "colab_type": "text"
      },
      "source": [
        "<a href=\"https://colab.research.google.com/github/aish0606/DeepLearning/blob/main/Pytorch%20Practice/pytorch_basics.ipynb\" target=\"_parent\"><img src=\"https://colab.research.google.com/assets/colab-badge.svg\" alt=\"Open In Colab\"/></a>"
      ]
    },
    {
      "cell_type": "code",
      "metadata": {
        "id": "c2hmMdOdZaqt"
      },
      "source": [
        "import torch\r\n",
        "import torchvision"
      ],
      "execution_count": 2,
      "outputs": []
    },
    {
      "cell_type": "code",
      "metadata": {
        "colab": {
          "base_uri": "https://localhost:8080/"
        },
        "id": "G5xTtI6MsLuX",
        "outputId": "98149080-b2b5-4182-bbbb-b3fcca53ce6f"
      },
      "source": [
        "torch.cuda.is_available()"
      ],
      "execution_count": null,
      "outputs": [
        {
          "output_type": "execute_result",
          "data": {
            "text/plain": [
              "True"
            ]
          },
          "metadata": {
            "tags": []
          },
          "execution_count": 3
        }
      ]
    },
    {
      "cell_type": "code",
      "metadata": {
        "colab": {
          "base_uri": "https://localhost:8080/"
        },
        "id": "d-oTdlO5seSq",
        "outputId": "cf1152d8-b429-4e45-e781-3b9284f98062"
      },
      "source": [
        "!nvcc --version"
      ],
      "execution_count": null,
      "outputs": [
        {
          "output_type": "stream",
          "text": [
            "nvcc: NVIDIA (R) Cuda compiler driver\n",
            "Copyright (c) 2005-2019 NVIDIA Corporation\n",
            "Built on Sun_Jul_28_19:07:16_PDT_2019\n",
            "Cuda compilation tools, release 10.1, V10.1.243\n"
          ],
          "name": "stdout"
        }
      ]
    },
    {
      "cell_type": "code",
      "metadata": {
        "id": "n22T9iiSsjQI",
        "colab": {
          "base_uri": "https://localhost:8080/"
        },
        "outputId": "5d2fcfa0-458e-4c69-9f98-f790c683d6dc"
      },
      "source": [
        "# this is 1D tensor\r\n",
        "a = torch.tensor([2,2,1])\r\n",
        "print(a)\r\n",
        "# .shape is an Attribute\r\n",
        "print(a.shape)\r\n",
        "# .size() is a method, The out for both are same\r\n",
        "print(a.size())"
      ],
      "execution_count": null,
      "outputs": [
        {
          "output_type": "stream",
          "text": [
            "tensor([2, 2, 1])\n",
            "torch.Size([3])\n",
            "torch.Size([3])\n"
          ],
          "name": "stdout"
        }
      ]
    },
    {
      "cell_type": "code",
      "metadata": {
        "colab": {
          "base_uri": "https://localhost:8080/"
        },
        "id": "7jsYxS-IBKcp",
        "outputId": "c0a5c266-b8bc-447e-bd9a-2318ed007296"
      },
      "source": [
        "b = torch.tensor([[4,3,1],[2,6,7],[9,7,0],[11,55,99]])\r\n",
        "print(b)\r\n",
        "print(b.shape)\r\n",
        "print(b.size())"
      ],
      "execution_count": null,
      "outputs": [
        {
          "output_type": "stream",
          "text": [
            "tensor([[ 4,  3,  1],\n",
            "        [ 2,  6,  7],\n",
            "        [ 9,  7,  0],\n",
            "        [11, 55, 99]])\n",
            "torch.Size([4, 3])\n",
            "torch.Size([4, 3])\n"
          ],
          "name": "stdout"
        }
      ]
    },
    {
      "cell_type": "code",
      "metadata": {
        "colab": {
          "base_uri": "https://localhost:8080/"
        },
        "id": "O5Pjzn05BzcZ",
        "outputId": "ea84422c-6696-488f-c3d5-907fb0c913b3"
      },
      "source": [
        "# Mean can be calculated for just Float and Double datatypes.\r\n",
        "c = torch.DoubleTensor([2,2,2])\r\n",
        "print(c.mean())"
      ],
      "execution_count": null,
      "outputs": [
        {
          "output_type": "stream",
          "text": [
            "tensor(2., dtype=torch.float64)\n"
          ],
          "name": "stdout"
        }
      ]
    },
    {
      "cell_type": "code",
      "metadata": {
        "colab": {
          "base_uri": "https://localhost:8080/"
        },
        "id": "hx_vzWwsG4HU",
        "outputId": "f6d719e8-9ada-4e8f-b37f-2610355944d6"
      },
      "source": [
        "d = torch.FloatTensor([[4,3,1],[2,6,7],[9,7,0],[11,55,99]])\r\n",
        "print(d)\r\n",
        "print(d.shape)\r\n",
        "print(d.size())\r\n",
        "print(d.dtype)\r\n",
        "print(d.mean())\r\n",
        "print(d.std())"
      ],
      "execution_count": null,
      "outputs": [
        {
          "output_type": "stream",
          "text": [
            "tensor([[ 4.,  3.,  1.],\n",
            "        [ 2.,  6.,  7.],\n",
            "        [ 9.,  7.,  0.],\n",
            "        [11., 55., 99.]])\n",
            "torch.Size([4, 3])\n",
            "torch.Size([4, 3])\n",
            "torch.float32\n",
            "tensor(17.)\n",
            "tensor(29.7321)\n"
          ],
          "name": "stdout"
        }
      ]
    },
    {
      "cell_type": "code",
      "metadata": {
        "colab": {
          "base_uri": "https://localhost:8080/"
        },
        "id": "moNcGJGCISiR",
        "outputId": "9a3ae416-97fc-4df8-84de-fac63e1bd43d"
      },
      "source": [
        "# Reshaping the tensor b. For reshaping we use .view functipn Pytorch\r\n",
        "print(b.view(-1,1))\r\n",
        "print(b.view(-1,4))\r\n",
        "print(b.view(3,-1))\r\n",
        "print(b.view(6,-1))"
      ],
      "execution_count": null,
      "outputs": [
        {
          "output_type": "stream",
          "text": [
            "tensor([[ 4],\n",
            "        [ 3],\n",
            "        [ 1],\n",
            "        [ 2],\n",
            "        [ 6],\n",
            "        [ 7],\n",
            "        [ 9],\n",
            "        [ 7],\n",
            "        [ 0],\n",
            "        [11],\n",
            "        [55],\n",
            "        [99]])\n",
            "tensor([[ 4,  3,  1,  2],\n",
            "        [ 6,  7,  9,  7],\n",
            "        [ 0, 11, 55, 99]])\n",
            "tensor([[ 4,  3,  1,  2],\n",
            "        [ 6,  7,  9,  7],\n",
            "        [ 0, 11, 55, 99]])\n",
            "tensor([[ 4,  3],\n",
            "        [ 1,  2],\n",
            "        [ 6,  7],\n",
            "        [ 9,  7],\n",
            "        [ 0, 11],\n",
            "        [55, 99]])\n"
          ],
          "name": "stdout"
        }
      ]
    },
    {
      "cell_type": "code",
      "metadata": {
        "colab": {
          "base_uri": "https://localhost:8080/"
        },
        "id": "5YH6DXhkiNbc",
        "outputId": "66852150-b0de-401c-8b04-15f5c1da4970"
      },
      "source": [
        "# Create a matrix of random numbers between 0 and 1\r\n",
        "r = torch.rand(4,4)\r\n",
        "print(r)"
      ],
      "execution_count": null,
      "outputs": [
        {
          "output_type": "stream",
          "text": [
            "tensor([[0.2655, 0.6313, 0.1569, 0.9017],\n",
            "        [0.0836, 0.0881, 0.1787, 0.6528],\n",
            "        [0.5023, 0.5603, 0.2458, 0.6442],\n",
            "        [0.8263, 0.3210, 0.5312, 0.4502]])\n"
          ],
          "name": "stdout"
        }
      ]
    },
    {
      "cell_type": "code",
      "metadata": {
        "colab": {
          "base_uri": "https://localhost:8080/"
        },
        "id": "tWf9UEpdBOwB",
        "outputId": "2f2016a3-d4e4-4e41-ee6c-29e2272f6b79"
      },
      "source": [
        "# Create a matrix of random numbers taken from normal distribution with mean 0 and variance 1\r\n",
        "r2 = torch.randn(4,4)\r\n",
        "print(r2)\r\n",
        "print(r2.dtype)"
      ],
      "execution_count": 3,
      "outputs": [
        {
          "output_type": "stream",
          "text": [
            "tensor([[-0.4187,  0.2077,  1.0328,  0.1040],\n",
            "        [ 1.7606,  1.0788,  1.6095, -0.1841],\n",
            "        [ 1.8335,  0.4154,  0.5622, -0.1601],\n",
            "        [ 0.6777,  1.1372,  0.0116,  1.6291]])\n",
            "torch.float32\n"
          ],
          "name": "stdout"
        }
      ]
    },
    {
      "cell_type": "code",
      "metadata": {
        "colab": {
          "base_uri": "https://localhost:8080/"
        },
        "id": "aCC6FXzJByXE",
        "outputId": "765425cc-9d73-4719-cc6e-951a271e75a0"
      },
      "source": [
        "# Create a 1D array of 5 random integers from 6 to 9\r\n",
        "in_arr = torch.randint(6,9,(5,))\r\n",
        "print(in_arr)\r\n",
        "# Create a 2D array of 5 random integers from 6 to 9\r\n",
        "in_arr2 = torch.randint(6,10,(3,3))\r\n",
        "print(in_arr2)"
      ],
      "execution_count": null,
      "outputs": [
        {
          "output_type": "stream",
          "text": [
            "tensor([6, 7, 8, 8, 6])\n",
            "tensor([[9, 8, 9],\n",
            "        [6, 7, 7],\n",
            "        [8, 8, 9]])\n"
          ],
          "name": "stdout"
        }
      ]
    },
    {
      "cell_type": "code",
      "metadata": {
        "colab": {
          "base_uri": "https://localhost:8080/"
        },
        "id": "VLrxlSL7CXE3",
        "outputId": "d546bdd5-4474-4978-dde6-a59fe2d091b9"
      },
      "source": [
        "# Get the number of element in in_arr and in_arr2\r\n",
        "print(torch.numel(in_arr))\r\n",
        "print(torch.numel(in_arr2))"
      ],
      "execution_count": null,
      "outputs": [
        {
          "output_type": "stream",
          "text": [
            "5\n",
            "9\n"
          ],
          "name": "stdout"
        }
      ]
    },
    {
      "cell_type": "code",
      "metadata": {
        "id": "5HV5HjaCMhi_",
        "colab": {
          "base_uri": "https://localhost:8080/"
        },
        "outputId": "9d694059-504e-47c0-a15f-406cd1456d85"
      },
      "source": [
        "# Construct a 3x3 matrix of zeros and of dtype long\r\n",
        "z = torch.zeros(3,3, dtype=torch.long)\r\n",
        "print(z)\r\n",
        "print(z.dtype)\r\n",
        "y = torch.ones(3,3)\r\n",
        "print(y)\r\n",
        "print(y.dtype)"
      ],
      "execution_count": 5,
      "outputs": [
        {
          "output_type": "stream",
          "text": [
            "tensor([[0, 0, 0],\n",
            "        [0, 0, 0],\n",
            "        [0, 0, 0]])\n",
            "torch.int64\n",
            "tensor([[1., 1., 1.],\n",
            "        [1., 1., 1.],\n",
            "        [1., 1., 1.]])\n",
            "torch.float32\n"
          ],
          "name": "stdout"
        }
      ]
    },
    {
      "cell_type": "code",
      "metadata": {
        "colab": {
          "base_uri": "https://localhost:8080/"
        },
        "id": "uTRN4HFoiQqL",
        "outputId": "ed388667-c2f2-4e78-d301-de66998ad0bb"
      },
      "source": [
        "# randn_like take the size of the matrix from r2\r\n",
        "r2_like = torch.randn_like(r2, dtype=torch.double)\r\n",
        "print(r2)"
      ],
      "execution_count": 4,
      "outputs": [
        {
          "output_type": "stream",
          "text": [
            "tensor([[-0.4187,  0.2077,  1.0328,  0.1040],\n",
            "        [ 1.7606,  1.0788,  1.6095, -0.1841],\n",
            "        [ 1.8335,  0.4154,  0.5622, -0.1601],\n",
            "        [ 0.6777,  1.1372,  0.0116,  1.6291]])\n"
          ],
          "name": "stdout"
        }
      ]
    },
    {
      "cell_type": "code",
      "metadata": {
        "colab": {
          "base_uri": "https://localhost:8080/"
        },
        "id": "klfoteXUmS7W",
        "outputId": "9f0bce3a-aaa5-4c7d-b3ef-4f847ad76205"
      },
      "source": [
        "# Adding 2 tensor: we need to make sure the size of the 2 tensors are same and data type should be same\r\n",
        "add_res = torch.add(r2, r2_like)\r\n",
        "print(add_res)"
      ],
      "execution_count": 7,
      "outputs": [
        {
          "output_type": "stream",
          "text": [
            "tensor([[-1.2303, -0.9866,  1.6997, -0.6679],\n",
            "        [ 3.8708,  2.1951,  1.0973,  0.5370],\n",
            "        [ 2.6538, -0.3584,  1.3180, -1.0746],\n",
            "        [-0.1155,  1.6521, -1.9146,  1.4257]], dtype=torch.float64)\n"
          ],
          "name": "stdout"
        }
      ]
    },
    {
      "cell_type": "code",
      "metadata": {
        "colab": {
          "base_uri": "https://localhost:8080/"
        },
        "id": "1MtlBLW0mxKC",
        "outputId": "841d739d-c5d7-4c28-d3a0-6c7dd0a58ef8"
      },
      "source": [
        "# In place Addition, r2 is updated with result value\r\n",
        "r2.add_(r2_like)\r\n",
        "print(r2)"
      ],
      "execution_count": 9,
      "outputs": [
        {
          "output_type": "stream",
          "text": [
            "tensor([[-2.0418, -2.1808,  2.3666, -1.4398],\n",
            "        [ 5.9810,  3.3113,  0.5852,  1.2581],\n",
            "        [ 3.4742, -1.1323,  2.0738, -1.9891],\n",
            "        [-0.9088,  2.1671, -3.8408,  1.2222]])\n"
          ],
          "name": "stdout"
        }
      ]
    },
    {
      "cell_type": "markdown",
      "metadata": {
        "id": "5uyjyO5kpOq8"
      },
      "source": [
        "**Numpy Bridge** - Converting a numpy array to tensor and vice-versa"
      ]
    },
    {
      "cell_type": "code",
      "metadata": {
        "id": "VnrZT7bBnNVV"
      },
      "source": [
        "import numpy as np"
      ],
      "execution_count": 10,
      "outputs": []
    },
    {
      "cell_type": "code",
      "metadata": {
        "colab": {
          "base_uri": "https://localhost:8080/"
        },
        "id": "oYtZPIl_pcNi",
        "outputId": "df114245-a7f9-4b8f-a816-189bcb405a14"
      },
      "source": [
        "# Converting a torch tensor to numpy array\r\n",
        "a = torch.ones(5)\r\n",
        "print(a)\r\n",
        "b = a.numpy()\r\n",
        "print(b)\r\n",
        "a.add_(1)\r\n",
        "print(a)\r\n",
        "# the change in a is reflected in b also\r\n",
        "print(b)"
      ],
      "execution_count": 13,
      "outputs": [
        {
          "output_type": "stream",
          "text": [
            "tensor([1., 1., 1., 1., 1.])\n",
            "[1. 1. 1. 1. 1.]\n",
            "tensor([2., 2., 2., 2., 2.])\n",
            "[2. 2. 2. 2. 2.]\n"
          ],
          "name": "stdout"
        }
      ]
    },
    {
      "cell_type": "code",
      "metadata": {
        "colab": {
          "base_uri": "https://localhost:8080/"
        },
        "id": "SQGPqdi1qZ39",
        "outputId": "094a51de-665e-41c5-eece-07b9ea724075"
      },
      "source": [
        "# Converting a Numpy array to torch tensor\r\n",
        "# Here changing the numpy array changed the tensor automatically\r\n",
        "a = np.ones(3)\r\n",
        "print(a.dtype)\r\n",
        "b = torch.from_numpy(a)\r\n",
        "print(b.dtype)\r\n",
        "np.add(a,1,out=a)\r\n",
        "print(a)\r\n",
        "print(b)"
      ],
      "execution_count": 16,
      "outputs": [
        {
          "output_type": "stream",
          "text": [
            "float64\n",
            "torch.float64\n",
            "[2. 2. 2.]\n",
            "tensor([2., 2., 2.], dtype=torch.float64)\n"
          ],
          "name": "stdout"
        }
      ]
    },
    {
      "cell_type": "code",
      "metadata": {
        "colab": {
          "base_uri": "https://localhost:8080/"
        },
        "id": "9z3SQMNOrmiy",
        "outputId": "d858bd92-494b-4e8b-9568-c5f1f7b5187f"
      },
      "source": [
        "# Move the tensor to GPU\r\n",
        "print(r2)\r\n",
        "r2 = r2.cuda()\r\n",
        "print(r2)"
      ],
      "execution_count": 17,
      "outputs": [
        {
          "output_type": "stream",
          "text": [
            "tensor([[-2.0418, -2.1808,  2.3666, -1.4398],\n",
            "        [ 5.9810,  3.3113,  0.5852,  1.2581],\n",
            "        [ 3.4742, -1.1323,  2.0738, -1.9891],\n",
            "        [-0.9088,  2.1671, -3.8408,  1.2222]])\n",
            "tensor([[-2.0418, -2.1808,  2.3666, -1.4398],\n",
            "        [ 5.9810,  3.3113,  0.5852,  1.2581],\n",
            "        [ 3.4742, -1.1323,  2.0738, -1.9891],\n",
            "        [-0.9088,  2.1671, -3.8408,  1.2222]], device='cuda:0')\n"
          ],
          "name": "stdout"
        }
      ]
    },
    {
      "cell_type": "code",
      "metadata": {
        "colab": {
          "base_uri": "https://localhost:8080/"
        },
        "id": "j0NUForesLCa",
        "outputId": "0ddd26d1-9665-4bc9-bddd-12813a6efa86"
      },
      "source": [
        "# Easy switching between CPU and GPU\r\n",
        "cuda = torch.cuda.is_available()\r\n",
        "print(cuda)\r\n",
        "if cuda:\r\n",
        "  add_res = add_res.cuda()\r\n",
        "  print(add_res)"
      ],
      "execution_count": 18,
      "outputs": [
        {
          "output_type": "stream",
          "text": [
            "True\n",
            "tensor([[-1.2303, -0.9866,  1.6997, -0.6679],\n",
            "        [ 3.8708,  2.1951,  1.0973,  0.5370],\n",
            "        [ 2.6538, -0.3584,  1.3180, -1.0746],\n",
            "        [-0.1155,  1.6521, -1.9146,  1.4257]], device='cuda:0',\n",
            "       dtype=torch.float64)\n"
          ],
          "name": "stdout"
        }
      ]
    },
    {
      "cell_type": "code",
      "metadata": {
        "colab": {
          "base_uri": "https://localhost:8080/"
        },
        "id": "c0MnI9jYsxQH",
        "outputId": "a1c8f0dc-ceac-4f2c-9dec-e610b86f7284"
      },
      "source": [
        "# We can convert a list to tensor\r\n",
        "lst = [6,7,8]\r\n",
        "print(lst)\r\n",
        "lst = torch.tensor(lst)\r\n",
        "print(lst, lst.dtype)"
      ],
      "execution_count": 20,
      "outputs": [
        {
          "output_type": "stream",
          "text": [
            "[6, 7, 8]\n",
            "tensor([6, 7, 8]) torch.int64\n"
          ],
          "name": "stdout"
        }
      ]
    },
    {
      "cell_type": "code",
      "metadata": {
        "colab": {
          "base_uri": "https://localhost:8080/"
        },
        "id": "enXHPN85tGma",
        "outputId": "62711c57-a796-40ca-8fa8-825233208e03"
      },
      "source": [
        "data = [[2. ,3.], [5. ,9.],\r\n",
        "        [2. ,3.], [5. ,9.]]\r\n",
        "print(data, type(data))        \r\n",
        "T = torch.tensor(data)\r\n",
        "print(T, T.dtype)\r\n"
      ],
      "execution_count": 21,
      "outputs": [
        {
          "output_type": "stream",
          "text": [
            "[[2.0, 3.0], [5.0, 9.0], [2.0, 3.0], [5.0, 9.0]] <class 'list'>\n",
            "tensor([[2., 3.],\n",
            "        [5., 9.],\n",
            "        [2., 3.],\n",
            "        [5., 9.]]) torch.float32\n"
          ],
          "name": "stdout"
        }
      ]
    },
    {
      "cell_type": "markdown",
      "metadata": {
        "id": "gMpAPiy2t0R9"
      },
      "source": [
        "**Tensor Concatenation**"
      ]
    },
    {
      "cell_type": "code",
      "metadata": {
        "colab": {
          "base_uri": "https://localhost:8080/"
        },
        "id": "arj21DCTtnFG",
        "outputId": "b7adb1ea-91c7-4881-c687-569bff82178f"
      },
      "source": [
        "tensor1 = torch.randn(2, 3)\r\n",
        "print(tensor1)\r\n",
        "tensor2 = torch.randn(5, 3)\r\n",
        "print(tensor2)\r\n",
        "# concatenate along 0 dimension or CONCATENATE ROWS\r\n",
        "con_1 = torch.cat([tensor1, tensor2])\r\n",
        "print(con_1)\r\n",
        "print('\\n\\n')\r\n",
        "tensor1 = torch.randn(3, 2)\r\n",
        "print(tensor1)\r\n",
        "tensor2 = torch.randn(3, 5)\r\n",
        "print(tensor2)\r\n",
        "# concatenate along 1 dimension or CONCATENATE COLUMNS\r\n",
        "con_1 = torch.cat([tensor1, tensor2], dim=1)\r\n",
        "print(con_1)\r\n"
      ],
      "execution_count": 24,
      "outputs": [
        {
          "output_type": "stream",
          "text": [
            "tensor([[ 0.2967, -0.6749, -1.3157],\n",
            "        [-0.6103,  0.7025,  2.6447]])\n",
            "tensor([[ 0.0038, -3.3342, -0.9580],\n",
            "        [ 1.4554,  1.5511, -0.7022],\n",
            "        [ 0.4924,  0.6124,  1.8163],\n",
            "        [ 0.0057, -0.8522,  0.5536],\n",
            "        [-0.1817, -1.2256,  1.0948]])\n",
            "tensor([[ 0.2967, -0.6749, -1.3157],\n",
            "        [-0.6103,  0.7025,  2.6447],\n",
            "        [ 0.0038, -3.3342, -0.9580],\n",
            "        [ 1.4554,  1.5511, -0.7022],\n",
            "        [ 0.4924,  0.6124,  1.8163],\n",
            "        [ 0.0057, -0.8522,  0.5536],\n",
            "        [-0.1817, -1.2256,  1.0948]])\n",
            "\n",
            "\n",
            "\n",
            "tensor([[-0.8165, -0.9521],\n",
            "        [ 0.5293,  1.0212],\n",
            "        [ 1.2403,  1.3038]])\n",
            "tensor([[-0.1655,  1.1650, -0.0833,  0.6291, -0.8394],\n",
            "        [ 0.0656,  0.0179, -1.6986, -1.1353, -0.0925],\n",
            "        [ 0.2201,  0.0811,  1.1025, -0.9253,  0.1634]])\n",
            "tensor([[-0.8165, -0.9521, -0.1655,  1.1650, -0.0833,  0.6291, -0.8394],\n",
            "        [ 0.5293,  1.0212,  0.0656,  0.0179, -1.6986, -1.1353, -0.0925],\n",
            "        [ 1.2403,  1.3038,  0.2201,  0.0811,  1.1025, -0.9253,  0.1634]])\n"
          ],
          "name": "stdout"
        }
      ]
    },
    {
      "cell_type": "markdown",
      "metadata": {
        "id": "IoZiMwUivR4S"
      },
      "source": [
        "**Adding Dimensions to TENSORS**"
      ]
    },
    {
      "cell_type": "code",
      "metadata": {
        "colab": {
          "base_uri": "https://localhost:8080/"
        },
        "id": "75tv8loyuk2a",
        "outputId": "df40d33d-4038-4402-e83f-a7f08a49db17"
      },
      "source": [
        "tensor_1 = torch.tensor([1, 4, 7, 8])\r\n",
        "print(tensor_1, tensor_1.dtype, tensor_1.shape)\r\n",
        "\r\n",
        "tensor_a = torch.unsqueeze(tensor_1, 0)\r\n",
        "print(tensor_a, tensor_a.dtype, tensor_a.shape)\r\n",
        "\r\n",
        "tensor_b = torch.unsqueeze(tensor_1, dim=1)\r\n",
        "print(tensor_b, tensor_b.dtype, tensor_b.shape)\r\n",
        "print('\\n')\r\n",
        "tensor_2 = torch.rand(2,3,4) # 2 channels, 3 rows, 4 columns\r\n",
        "print(tensor_2, tensor_2.dtype, tensor_2.shape)\r\n",
        "tensor_c = torch.unsqueeze(tensor_2, dim=2)\r\n",
        "# shape of Tensor changed from [2,3,4] to [2,3,1,4] as we have added the new dimension at 2 (dim=2)\r\n",
        "print(tensor_c, tensor_c.dtype, tensor_c.shape)\r\n"
      ],
      "execution_count": 38,
      "outputs": [
        {
          "output_type": "stream",
          "text": [
            "tensor([1, 4, 7, 8]) torch.int64 torch.Size([4])\n",
            "tensor([[1, 4, 7, 8]]) torch.int64 torch.Size([1, 4])\n",
            "tensor([[1],\n",
            "        [4],\n",
            "        [7],\n",
            "        [8]]) torch.int64 torch.Size([4, 1])\n",
            "\n",
            "\n",
            "tensor([[[0.0031, 0.2112, 0.0928, 0.8901],\n",
            "         [0.7873, 0.5909, 0.2507, 0.0355],\n",
            "         [0.8979, 0.0516, 0.7825, 0.9855]],\n",
            "\n",
            "        [[0.2502, 0.5370, 0.0396, 0.6458],\n",
            "         [0.0433, 0.5032, 0.9098, 0.7848],\n",
            "         [0.0221, 0.4397, 0.7798, 0.9651]]]) torch.float32 torch.Size([2, 3, 4])\n",
            "tensor([[[[0.0031, 0.2112, 0.0928, 0.8901]],\n",
            "\n",
            "         [[0.7873, 0.5909, 0.2507, 0.0355]],\n",
            "\n",
            "         [[0.8979, 0.0516, 0.7825, 0.9855]]],\n",
            "\n",
            "\n",
            "        [[[0.2502, 0.5370, 0.0396, 0.6458]],\n",
            "\n",
            "         [[0.0433, 0.5032, 0.9098, 0.7848]],\n",
            "\n",
            "         [[0.0221, 0.4397, 0.7798, 0.9651]]]]) torch.float32 torch.Size([2, 3, 1, 4])\n"
          ],
          "name": "stdout"
        }
      ]
    },
    {
      "cell_type": "markdown",
      "metadata": {
        "id": "I713DCyfDEZp"
      },
      "source": [
        "**Auto Grad (or Automatic Differentiation)**"
      ]
    },
    {
      "cell_type": "code",
      "metadata": {
        "colab": {
          "base_uri": "https://localhost:8080/"
        },
        "id": "Qp396i63wABm",
        "outputId": "b61309c9-b31d-4100-ec8f-b1cf1f1caab1"
      },
      "source": [
        "# If requires_grad=True, Tensor object keeps the track how it was created\r\n",
        "x = torch.tensor([2.,3.,4.], requires_grad=True)\r\n",
        "y = torch.tensor([99., 4., 8.], requires_grad=True)\r\n",
        "# Since reuires_grad=True for both x and y, therefore we can compute gradient w.r.t. them\r\n",
        "z = x + y\r\n",
        "print(z)\r\n",
        "# z knows that is was created as a result of addition of x and y. It knows that it wasn't read in from a file\r\n",
        "print(z.grad_fn)\r\n",
        "# z is showing as <AddBackward0 object at 0x7f2d8e245b00>, AddBackward as z=x+y (x, y are added)\r\n",
        "# Going Further\r\n",
        "s = z.sum()\r\n",
        "print(s)\r\n",
        "# s is showing as <SumBackward0 object at 0x7f2d8e245da0>, SumBackward as s=z.sum() (elements of z are summed up)\r\n",
        "print(s.grad_fn)"
      ],
      "execution_count": 7,
      "outputs": [
        {
          "output_type": "stream",
          "text": [
            "tensor([101.,   7.,  12.], grad_fn=<AddBackward0>)\n",
            "<AddBackward0 object at 0x7f2d8e245b00>\n",
            "tensor(120., grad_fn=<SumBackward0>)\n",
            "<SumBackward0 object at 0x7f2d8e245da0>\n"
          ],
          "name": "stdout"
        }
      ]
    },
    {
      "cell_type": "code",
      "metadata": {
        "colab": {
          "base_uri": "https://localhost:8080/"
        },
        "id": "C0C0bf7FGcuQ",
        "outputId": "0a8870c3-9156-45a8-d51e-914262760d72"
      },
      "source": [
        "# Now if we backpropogate on s, we can find the gradient of s w.r.t. x\r\n",
        "s.backward()\r\n",
        "print(x.grad)"
      ],
      "execution_count": 10,
      "outputs": [
        {
          "output_type": "stream",
          "text": [
            "tensor([2., 2., 2.])\n"
          ],
          "name": "stdout"
        }
      ]
    },
    {
      "cell_type": "code",
      "metadata": {
        "colab": {
          "base_uri": "https://localhost:8080/"
        },
        "id": "lH-w8NuhJGuo",
        "outputId": "af0944d2-779b-456e-cea6-8bfdf924d81a"
      },
      "source": [
        "# By default, tensors have requires_grad=False\r\n",
        "x = torch.randn(2,2)\r\n",
        "y = torch.randn(2,2)\r\n",
        "print(x.requires_grad,y.requires_grad)\r\n",
        "z = x + y\r\n",
        "# Can't backprop through z\r\n",
        "print(z.grad_fn)\r\n",
        "# Another way to set the requires_grad = True (in place) is\r\n",
        "x.requires_grad_()\r\n",
        "y.requires_grad_()\r\n",
        "z = x + y\r\n",
        "print(z.grad_fn)\r\n",
        "print(z.requires_grad)\r\n",
        "# Gives o/p as TRUE bcoz Now z has the computation history that relates itself to x and y\r\n",
        "\r\n",
        "print(\"--------DETACHED z--------\")\r\n",
        "# z.detach() returns a tensor that shares the same storage as ``z``, but with the computation history forgotten. \r\n",
        "#It doesn't know anything about how it was computed.In other words, we have broken the Tensor away from its past history\r\n",
        "new_z = z.detach()\r\n",
        "print(new_z.grad_fn)\r\n",
        "\r\n",
        "print(\"-------To Stop Autograd ---------\")\r\n",
        "# You can also stop autograd from tracking history on Tensors. This concept is useful when applying Transfer Learning \r\n",
        "print(x.requires_grad)\r\n",
        "print((x+10).requires_grad)\r\n",
        "\r\n",
        "with torch.no_grad():\r\n",
        "  # there is no grad for the derived value of x\r\n",
        "  print((x+10).requires_grad)\r\n",
        "  print(x.requires_grad)"
      ],
      "execution_count": 22,
      "outputs": [
        {
          "output_type": "stream",
          "text": [
            "False False\n",
            "None\n",
            "<AddBackward0 object at 0x7f2d8e1f1a58>\n",
            "True\n",
            "--------DETACHED z--------\n",
            "None\n",
            "-------To Stop Autograd ---------\n",
            "True\n",
            "True\n",
            "False\n",
            "True\n"
          ],
          "name": "stdout"
        }
      ]
    },
    {
      "cell_type": "code",
      "metadata": {
        "colab": {
          "base_uri": "https://localhost:8080/"
        },
        "id": "CA0YEBD-LXO7",
        "outputId": "15b45d40-9cb4-4e8c-83c1-8aefa45e8bcf"
      },
      "source": [
        "\r\n",
        "\r\n",
        "#One More example\r\n",
        "x = torch.ones(2, 2, requires_grad=True)\r\n",
        "print(x)\r\n",
        "y = x + 2\r\n",
        "print(y)\r\n",
        "print(y.grad_fn)\r\n",
        "z = y * y * 3\r\n",
        "out = z.mean()\r\n",
        "print(z, out)\r\n",
        "\r\n",
        "# x.grad is gradient of out w.r.t. x\r\n",
        "out.backward()\r\n",
        "print(x.grad)\r\n",
        "\r\n"
      ],
      "execution_count": 29,
      "outputs": [
        {
          "output_type": "stream",
          "text": [
            "tensor([[1., 1.],\n",
            "        [1., 1.]], requires_grad=True)\n",
            "tensor([[3., 3.],\n",
            "        [3., 3.]], grad_fn=<AddBackward0>)\n",
            "<AddBackward0 object at 0x7f2d85dfbef0>\n",
            "tensor([[27., 27.],\n",
            "        [27., 27.]], grad_fn=<MulBackward0>) tensor(27., grad_fn=<MeanBackward0>)\n",
            "tensor([[4.5000, 4.5000],\n",
            "        [4.5000, 4.5000]])\n"
          ],
          "name": "stdout"
        }
      ]
    },
    {
      "cell_type": "code",
      "metadata": {
        "id": "xn67b9ShXZqC"
      },
      "source": [
        ""
      ],
      "execution_count": null,
      "outputs": []
    }
  ]
}