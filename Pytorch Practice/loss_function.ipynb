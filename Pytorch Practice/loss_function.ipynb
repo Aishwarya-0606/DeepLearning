{
  "nbformat": 4,
  "nbformat_minor": 0,
  "metadata": {
    "colab": {
      "name": "loss_function.ipynb",
      "provenance": [],
      "authorship_tag": "ABX9TyP8FRisJLEBvXsZUlex46jl",
      "include_colab_link": true
    },
    "kernelspec": {
      "name": "python3",
      "display_name": "Python 3"
    }
  },
  "cells": [
    {
      "cell_type": "markdown",
      "metadata": {
        "id": "view-in-github",
        "colab_type": "text"
      },
      "source": [
        "<a href=\"https://colab.research.google.com/github/aish0606/DeepLearning/blob/main/Pytorch%20Practice/loss_function.ipynb\" target=\"_parent\"><img src=\"https://colab.research.google.com/assets/colab-badge.svg\" alt=\"Open In Colab\"/></a>"
      ]
    },
    {
      "cell_type": "code",
      "metadata": {
        "id": "g3xLjz-8fUY7"
      },
      "source": [
        "# Loss Function https://pytorch.org/docs/stable/nn.html#loss-functions\r\n",
        "import torch\r\n",
        "import torch.nn as nn"
      ],
      "execution_count": 1,
      "outputs": []
    },
    {
      "cell_type": "code",
      "metadata": {
        "colab": {
          "base_uri": "https://localhost:8080/"
        },
        "id": "EuCvO1a3tCjM",
        "outputId": "40082a8e-d8c4-4d51-ebc4-a9d947571ca5"
      },
      "source": [
        "prediction = torch.randn(4, 5)\r\n",
        "print(prediction)\r\n",
        "label = torch.randn(4, 5)\r\n",
        "print(label)"
      ],
      "execution_count": 2,
      "outputs": [
        {
          "output_type": "stream",
          "text": [
            "tensor([[-1.2529e+00,  3.0899e-04,  1.9775e-01, -8.7060e-03,  1.5012e+00],\n",
            "        [-3.3792e+00,  1.2335e+00, -7.1523e-01, -1.1711e-04, -5.3109e-01],\n",
            "        [-5.4657e-01, -5.1835e-01,  2.4756e-01, -6.8553e-01,  2.1664e+00],\n",
            "        [ 9.0522e-01, -1.2532e+00,  1.3977e+00,  1.5329e+00,  1.7440e+00]])\n",
            "tensor([[-0.4065,  1.0029, -0.3129, -1.0072,  0.2646],\n",
            "        [-0.8414,  1.2894, -2.4591,  0.5987,  1.5337],\n",
            "        [ 0.4710,  0.6282, -1.2357,  0.0735,  1.0880],\n",
            "        [ 1.1560, -1.5619, -0.0673, -1.7178, -1.5669]])\n"
          ],
          "name": "stdout"
        }
      ]
    },
    {
      "cell_type": "markdown",
      "metadata": {
        "id": "urD1iMMitPDY"
      },
      "source": [
        "**MSE Loss**"
      ]
    },
    {
      "cell_type": "code",
      "metadata": {
        "colab": {
          "base_uri": "https://localhost:8080/"
        },
        "id": "pN9lDiFztJGa",
        "outputId": "cfac7cef-50f2-4522-dcb8-7f6bf2fc0d87"
      },
      "source": [
        "mse = nn.MSELoss(reduction='mean')\r\n",
        "loss = mse(prediction, label)\r\n",
        "print(loss)"
      ],
      "execution_count": 3,
      "outputs": [
        {
          "output_type": "stream",
          "text": [
            "tensor(2.4369)\n"
          ],
          "name": "stdout"
        }
      ]
    },
    {
      "cell_type": "code",
      "metadata": {
        "colab": {
          "base_uri": "https://localhost:8080/"
        },
        "id": "KyjqtVCWuhUU",
        "outputId": "0293af4b-5edf-42ea-9653-e6c0185d5ceb"
      },
      "source": [
        "# Python Code for MSE Loss\r\n",
        "py_loss = ((prediction - label) ** 2).mean()\r\n",
        "print(py_loss)"
      ],
      "execution_count": 4,
      "outputs": [
        {
          "output_type": "stream",
          "text": [
            "tensor(2.4369)\n"
          ],
          "name": "stdout"
        }
      ]
    },
    {
      "cell_type": "markdown",
      "metadata": {
        "id": "JbuXJbuDwZ2_"
      },
      "source": [
        "**Binary Cross Entrpy Loss** - In BCE the label would be values with either 0 or 1. \r\n",
        "The predicted values should be between 0 and 1. Therefore we pass the o/p in sigmoid activation fn"
      ]
    },
    {
      "cell_type": "code",
      "metadata": {
        "colab": {
          "base_uri": "https://localhost:8080/"
        },
        "id": "nwQSQn1avYj3",
        "outputId": "b59cdcc8-cae0-4413-f9a2-1d32d86c15f5"
      },
      "source": [
        "# We need to redefine the label as 0 or 1\r\n",
        "label = torch.zeros(4,5).random_(0,2) # In place random function with lower & upper limit not included\r\n",
        "print(label)"
      ],
      "execution_count": 5,
      "outputs": [
        {
          "output_type": "stream",
          "text": [
            "tensor([[1., 1., 1., 0., 0.],\n",
            "        [0., 1., 0., 0., 0.],\n",
            "        [1., 1., 0., 1., 0.],\n",
            "        [0., 0., 1., 0., 0.]])\n"
          ],
          "name": "stdout"
        }
      ]
    },
    {
      "cell_type": "code",
      "metadata": {
        "id": "2rUDvTZxwz5X"
      },
      "source": [
        "# Sigmoid fn\r\n",
        "sigmoid = nn.Sigmoid()"
      ],
      "execution_count": 6,
      "outputs": []
    },
    {
      "cell_type": "code",
      "metadata": {
        "colab": {
          "base_uri": "https://localhost:8080/"
        },
        "id": "fi0yImUTzcDF",
        "outputId": "b8fda1ea-2d09-487d-e8dd-5cf16c5f1bfb"
      },
      "source": [
        "bce = nn.BCELoss(reduction='mean')\r\n",
        "bce_loss = bce(sigmoid(prediction), label)\r\n",
        "print(bce_loss)"
      ],
      "execution_count": 7,
      "outputs": [
        {
          "output_type": "stream",
          "text": [
            "tensor(0.9281)\n"
          ],
          "name": "stdout"
        }
      ]
    },
    {
      "cell_type": "code",
      "metadata": {
        "colab": {
          "base_uri": "https://localhost:8080/"
        },
        "id": "IJNzneX7z8SQ",
        "outputId": "76172343-25fe-4a4a-e02c-68a8c510ba9c"
      },
      "source": [
        "# BCEWithLogitsLoss: This loss combines a Sigmoid layer and the BCELoss in one single class.\r\n",
        "bces = nn.BCEWithLogitsLoss(reduction='mean')\r\n",
        "bces_loss = bces(prediction, label)\r\n",
        "print(bces_loss)"
      ],
      "execution_count": 8,
      "outputs": [
        {
          "output_type": "stream",
          "text": [
            "tensor(0.9281)\n"
          ],
          "name": "stdout"
        }
      ]
    },
    {
      "cell_type": "code",
      "metadata": {
        "colab": {
          "base_uri": "https://localhost:8080/"
        },
        "id": "dxSa8VJe0Zo4",
        "outputId": "721f301f-1d28-4ea0-babb-9600b1aaa6aa"
      },
      "source": [
        "import numpy as np\r\n",
        "\r\n",
        "# Implementing BCE in Python or Python Code\r\n",
        "# converting torch tensor to numpy array\r\n",
        "prediction_py = prediction.numpy()\r\n",
        "label_py = label.numpy()\r\n",
        "\r\n",
        "print(label_py)\r\n",
        "print(len(label_py))\r\n",
        "print(label_py[0])\r\n",
        "print(len(label_py[0]))"
      ],
      "execution_count": 9,
      "outputs": [
        {
          "output_type": "stream",
          "text": [
            "[[1. 1. 1. 0. 0.]\n",
            " [0. 1. 0. 0. 0.]\n",
            " [1. 1. 0. 1. 0.]\n",
            " [0. 0. 1. 0. 0.]]\n",
            "4\n",
            "[1. 1. 1. 0. 0.]\n",
            "5\n"
          ],
          "name": "stdout"
        }
      ]
    },
    {
      "cell_type": "code",
      "metadata": {
        "id": "mWsFC9yyLv9a"
      },
      "source": [
        "def sigmoid(val):\r\n",
        "  return 1 / (1 + np.exp(-val))\r\n"
      ],
      "execution_count": 10,
      "outputs": []
    },
    {
      "cell_type": "code",
      "metadata": {
        "colab": {
          "base_uri": "https://localhost:8080/"
        },
        "id": "65K2gKE2NB2q",
        "outputId": "8c55ac9d-ada6-46d9-f757-9fb7baf740b0"
      },
      "source": [
        "# prediction_py should have value b/w 0 and 1\r\n",
        "prediction_py = sigmoid(prediction_py)\r\n",
        "loss_val = []\r\n",
        "for i in range(len(label_py)):\r\n",
        "  batch_loss = []\r\n",
        "  for j in range(len(label_py)):\r\n",
        "    batch_loss.append(-np.log(prediction_py[i][j]) if label_py[i][j] == 1 else -np.log(1 - prediction_py[i][j]))\r\n",
        "  loss_val.append(batch_loss)\r\n",
        "\r\n",
        "print(np.mean(loss_val))"
      ],
      "execution_count": 11,
      "outputs": [
        {
          "output_type": "stream",
          "text": [
            "0.7636165684552303\n"
          ],
          "name": "stdout"
        }
      ]
    },
    {
      "cell_type": "code",
      "metadata": {
        "id": "MeJNUk4WQSk5"
      },
      "source": [
        ""
      ],
      "execution_count": 11,
      "outputs": []
    }
  ]
}